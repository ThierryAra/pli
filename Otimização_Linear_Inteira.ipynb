{
  "cells": [
    {
      "cell_type": "markdown",
      "metadata": {
        "id": "VILJHOW03AKG"
      },
      "source": [
        "# Configuração Inicial"
      ]
    },
    {
      "cell_type": "markdown",
      "metadata": {
        "id": "3k1RZYmDpiWC"
      },
      "source": [
        "# PuLP Model"
      ]
    },
    {
      "cell_type": "code",
      "execution_count": 16,
      "metadata": {
        "id": "0RxR3nkD5g_O"
      },
      "outputs": [],
      "source": [
        "import pulp as pl"
      ]
    },
    {
      "cell_type": "code",
      "execution_count": 17,
      "metadata": {
        "id": "pDl5ctEdWKQ_"
      },
      "outputs": [],
      "source": [
        "def build_model(name: str, n: int, m: int, cap: list[int], f: list[int],\n",
        "                d: list[int], c: list[list[int]], relaxed: bool=False,\n",
        "                modified: bool=False) -> pl.LpProblem:\n",
        "\n",
        "    if modified:\n",
        "      model_type = '-m'\n",
        "    elif relaxed:\n",
        "      model_type = '-r'\n",
        "    else:\n",
        "      model_type = '-p'\n",
        "    name += model_type\n",
        "\n",
        "    model = pl.LpProblem(f\"{name}-Location-Of-Facilities\", pl.LpMinimize)\n",
        "\n",
        "    facilities = range(n)\n",
        "    clients = range(m)\n",
        "\n",
        "    y = {}\n",
        "    if relaxed or modified:\n",
        "        for i in facilities:\n",
        "            y[i] = pl.LpVariable(f\"y_{i}\", lowBound=0, upBound=1,\n",
        "                                 cat=pl.LpContinuous)\n",
        "    else:\n",
        "        for i in facilities:\n",
        "            y[i] = pl.LpVariable(f\"y_{i}\", cat=pl.LpBinary)\n",
        "\n",
        "    x = {}\n",
        "    for i in facilities:\n",
        "        for j in clients:\n",
        "            x[i, j] = pl.LpVariable(f\"x_{i}_{j}\", lowBound=0, upBound=1,\n",
        "                                    cat=pl.LpContinuous)\n",
        "\n",
        "    for j in clients:\n",
        "        model += pl.lpSum(x[i, j] for i in facilities) == 1, f\"Restrição_2_{j}\"\n",
        "\n",
        "    if modified:\n",
        "        for i in facilities:\n",
        "            model += pl.lpSum(d[j] * x[i, j] for j in clients) <= cap[i],\\\n",
        "            f\"Restrição_3_nova_{i}\"\n",
        "            for j in clients:\n",
        "                model += x[i, j] <= y[i], f\"Restrição_11_{i}_{j}\"\n",
        "    else:\n",
        "        for i in facilities:\n",
        "            model += pl.lpSum(d[j] * x[i, j] for j in clients) <= cap[i] * y[i], \\\n",
        "                     f\"Restrição_3_{i}\"\n",
        "\n",
        "    # Construir a função objetivo usando lpSum\n",
        "    model += pl.lpSum(f[i] * y[i] for i in facilities) + \\\n",
        "             pl.lpSum(c[j][i] * x[i, j] for i in facilities for j in clients)\n",
        "\n",
        "    return model"
      ]
    },
    {
      "cell_type": "markdown",
      "metadata": {
        "id": "NhP-K6-mb9lm"
      },
      "source": [
        "# Leitura das Instâncias"
      ]
    },
    {
      "cell_type": "code",
      "execution_count": 18,
      "metadata": {
        "id": "QG5-0GY_WPvL"
      },
      "outputs": [],
      "source": [
        "def read_instance(instance_name: str) -> tuple[int, int, list[int], list[int],\n",
        "                                                list[int], list[list[int]]]:\n",
        "  with open(f\"{instance_name}.txt\") as reader:\n",
        "    n, m = map(int, reader.readline().split())\n",
        "\n",
        "    cap = []\n",
        "    f = []\n",
        "    for _ in range(n):\n",
        "      cap_i, f_i = map(int, reader.readline().split())\n",
        "      cap.append(cap_i)\n",
        "      f.append(f_i)\n",
        "\n",
        "    d = []\n",
        "    c = []\n",
        "    for _ in range(m):\n",
        "      d_i, *c_i = map(int, reader.readline().split())\n",
        "      d.append(d_i)\n",
        "      c.append(c_i)\n",
        "\n",
        "  return n, m, cap, f, d, c"
      ]
    },
    {
      "cell_type": "markdown",
      "metadata": {
        "id": "gBqj60Sg080z"
      },
      "source": [
        "# Soluções"
      ]
    },
    {
      "cell_type": "code",
      "execution_count": 19,
      "metadata": {
        "id": "X6oTpfZwBrcD"
      },
      "outputs": [],
      "source": [
        "import gurobipy as gp"
      ]
    },
    {
      "cell_type": "code",
      "execution_count": 20,
      "metadata": {
        "id": "bIpSyIBK50yp"
      },
      "outputs": [],
      "source": [
        "def solve_gurobi(model: pl.LpProblem, time_limit=300) -> str:\n",
        "  options = {\n",
        "      \"WLSACCESSID\": '5b92c70a-c10f-44dd-866e-19a6a2fb9372',\n",
        "      \"WLSSECRET\": '111e2b19-d811-4b2f-8ef7-18f1f12e03c1',\n",
        "      \"LICENSEID\": 2443615\n",
        "  }\n",
        "\n",
        "  with gp.Env(params=options) as env:\n",
        "    # Pass environment as a parameter\n",
        "    filename = f\"{model.name}-GUROBI.txt\"\n",
        "    solver = pl.GUROBI(timeLimit=time_limit, logPath=filename,\n",
        "                       LogToConsole=False)\n",
        "    model.solve(solver)\n",
        "\n",
        "    return filename\n",
        "\n",
        "\n",
        "def solve_scip(model: pl.LpProblem, time_limit=300) -> str:\n",
        "    filename = f\"{model.name}-SCIP.txt\"\n",
        "    solver = pl.SCIP_PY(timeLimit=time_limit, msg=True) # ou SCIP_CMD ?\n",
        "    model.solve(solver)\n",
        "\n",
        "    return filename"
      ]
    },
    {
      "cell_type": "markdown",
      "metadata": {
        "id": "Sbn5mh0LAEVJ"
      },
      "source": [
        "## Geração dos Arquivos de Log"
      ]
    },
    {
      "cell_type": "code",
      "execution_count": 7,
      "metadata": {
        "id": "1FpKhdSz-q78"
      },
      "outputs": [],
      "source": [
        "instances = [\"wlp01\", \"wlp02\", \"wlp03\", \"wlp04\", \"wlp05\"]"
      ]
    },
    {
      "cell_type": "markdown",
      "metadata": {
        "id": "MGpDDu9O1Pl3"
      },
      "source": [
        "### Modelo Padrão"
      ]
    },
    {
      "cell_type": "code",
      "execution_count": 22,
      "metadata": {
        "colab": {
          "base_uri": "https://localhost:8080/"
        },
        "id": "nDCfJMb3mPhl",
        "outputId": "ef76788a-e13d-4087-c6c3-e2ea3f4556f7"
      },
      "outputs": [
        {
          "name": "stdout",
          "output_type": "stream",
          "text": [
            "Set parameter Username\n",
            "Set parameter WLSAccessID\n",
            "Set parameter WLSSecret\n",
            "Set parameter LicenseID to value 2443615\n",
            "Academic license 2443615 - for non-commercial use only - registered to th___@gmail.com\n",
            "\n",
            "Interrupt request received\n",
            "Gurobi status= 11\n"
          ]
        }
      ],
      "source": [
        "gurobi_p_log_files = []\n",
        "scip_p_log_files = []\n",
        "\n",
        "# Geração dos log_files do modelo no formato padrão\n",
        "for instance in instances:\n",
        "    model = build_model(instance, *read_instance(instance))\n",
        "    gurobi_p_log_files.append(solve_gurobi(model))\n",
        "    scip_p_log_files.append(solve_scip(model))"
      ]
    },
    {
      "cell_type": "code",
      "execution_count": 10,
      "metadata": {
        "id": "6glI7exhOUOp"
      },
      "outputs": [],
      "source": [
        "for instance in instances:\n",
        "    model = build_model(instance, *read_instance(instance))\n",
        "    result = solve_scip(model)"
      ]
    },
    {
      "cell_type": "markdown",
      "metadata": {
        "id": "cwF6if8D1TRt"
      },
      "source": [
        "### Modelo Relaxado"
      ]
    },
    {
      "cell_type": "code",
      "execution_count": null,
      "metadata": {
        "colab": {
          "base_uri": "https://localhost:8080/"
        },
        "id": "ZCJhR1sNmVgy",
        "outputId": "cada8bf4-c17c-48f4-a45f-e5039241e746"
      },
      "outputs": [
        {
          "name": "stdout",
          "output_type": "stream",
          "text": [
            "Set parameter WLSAccessID\n",
            "Set parameter WLSSecret\n",
            "Set parameter LicenseID to value 2443615\n",
            "Academic license 2443615 - for non-commercial use only - registered to th___@gmail.com\n",
            "Gurobi status= 2\n"
          ]
        }
      ],
      "source": [
        "# Geração dos log_files do modelo no formato relaxado\n",
        "gurobi_r_log_files = []\n",
        "\n",
        "for instance in instances:\n",
        "    model = build_model(instance, *read_instance(instance), relaxed=True)\n",
        "    gurobi_r_log_files.append(solve_gurobi(model))"
      ]
    },
    {
      "cell_type": "markdown",
      "metadata": {
        "id": "cJWfh7Bb1WW-"
      },
      "source": [
        "### Modelo Relaxado e Modificado"
      ]
    },
    {
      "cell_type": "code",
      "execution_count": 11,
      "metadata": {
        "id": "0X4d_L3jmdYq"
      },
      "outputs": [
        {
          "name": "stdout",
          "output_type": "stream",
          "text": [
            "Set parameter Username\n",
            "Set parameter WLSAccessID\n",
            "Set parameter WLSSecret\n",
            "Set parameter LicenseID to value 2443615\n",
            "Academic license 2443615 - for non-commercial use only - registered to th___@gmail.com\n",
            "Set parameter Username\n",
            "Academic license - for non-commercial use only - expires 2024-11-24\n",
            "Gurobi status= 2\n",
            "Set parameter Username\n",
            "Set parameter WLSAccessID\n",
            "Set parameter WLSSecret\n",
            "Set parameter LicenseID to value 2443615\n",
            "Academic license 2443615 - for non-commercial use only - registered to th___@gmail.com\n",
            "Gurobi status= 2\n",
            "Set parameter Username\n",
            "Set parameter WLSAccessID\n",
            "Set parameter WLSSecret\n",
            "Set parameter LicenseID to value 2443615\n",
            "Academic license 2443615 - for non-commercial use only - registered to th___@gmail.com\n",
            "Gurobi status= 2\n",
            "Set parameter Username\n",
            "Set parameter WLSAccessID\n",
            "Set parameter WLSSecret\n",
            "Set parameter LicenseID to value 2443615\n",
            "Academic license 2443615 - for non-commercial use only - registered to th___@gmail.com\n",
            "Gurobi status= 2\n",
            "Set parameter Username\n",
            "Set parameter WLSAccessID\n",
            "Set parameter WLSSecret\n",
            "Set parameter LicenseID to value 2443615\n",
            "Academic license 2443615 - for non-commercial use only - registered to th___@gmail.com\n",
            "Gurobi status= 2\n"
          ]
        }
      ],
      "source": [
        "# Geração dos log_files do modelo no formato relaxado e modificado\n",
        "gurobi_r_m_log_files = []\n",
        "\n",
        "for instance in instances:\n",
        "    model = build_model(instance, *read_instance(instance), \\\n",
        "                        relaxed=True, modified=True)\n",
        "    gurobi_r_m_log_files.append(solve_gurobi(model))"
      ]
    },
    {
      "cell_type": "markdown",
      "metadata": {
        "id": "sLxXbFUe1mqk"
      },
      "source": [
        "# Coleta dos Dados"
      ]
    },
    {
      "cell_type": "code",
      "execution_count": 1,
      "metadata": {
        "id": "CZH6q5mJ49HC"
      },
      "outputs": [],
      "source": [
        "import orloge as ol\n",
        "import re"
      ]
    },
    {
      "cell_type": "code",
      "execution_count": 38,
      "metadata": {
        "id": "Die7s9dnOOu1"
      },
      "outputs": [],
      "source": [
        "def extract_infos_scip_log(log_file: str):\n",
        "\n",
        "  with open('logs/'+log_file, 'r') as file:\n",
        "      content = file.read()\n",
        "\n",
        "  content = content.split('\\n')\n",
        "  pattern = r\"[-+]?\\d*\\.\\d+[eE][-+]?\\d+\"\n",
        "  try:\n",
        "    status = content[-7].split(':')[1].strip()\n",
        "    exec_time = float(content[-6].split(':')[1])\n",
        "    primal_bound = float(re.findall(pattern, content[-4])[0])\n",
        "    dual_bound = float(re.findall(pattern, content[-3])[0])\n",
        "    gap = float(content[-2].split(':')[1].rstrip('%'))\n",
        "  except:\n",
        "    status = content[-5].split(':')[1].strip()\n",
        "    exec_time = float(content[-4].split(':')[1])\n",
        "    primal_bound = '-'\n",
        "    dual_bound = '-'\n",
        "    gap = '-'\n",
        "    \n",
        "  return { log_file.split('-')[0]:\n",
        "           {\n",
        "              'solver':'Scip',\n",
        "              'status':status,\n",
        "              'exec_time':exec_time,\n",
        "              'primal_bound':primal_bound,\n",
        "              'dual_bound': dual_bound,\n",
        "              'gap': gap\n",
        "           }\n",
        "          }"
      ]
    },
    {
      "cell_type": "code",
      "execution_count": 44,
      "metadata": {},
      "outputs": [],
      "source": [
        "def extract_infos_gurobi_log(log_file: str):\n",
        "    out = ol.get_info_solver('logs/'+log_file, 'GUROBI')\n",
        "    name = log_file.split('-')[0]\n",
        "\n",
        "    optimal_objective = 0\n",
        "    exec_time = 0\n",
        "    log = ''\n",
        "    if out['status'] == None:\n",
        "        with open('logs/'+log_file, 'r') as file:\n",
        "            log = file.read()\n",
        "\n",
        "        op = re.compile(r'Optimal objective\\s+(\\d.+)')\n",
        "        tp = re.compile(r'Solved in \\d+ iterations and ([\\d.]+) seconds')\n",
        "        objective = op.search(log)\n",
        "        time = tp.search(log)\n",
        "        optimal_objective = float(objective.group(1)) if objective else None\n",
        "        exec_time = float(time.group(1)) if time else None\n",
        "\n",
        "    # Time limit / Non result\n",
        "    if log != '' and optimal_objective == None:\n",
        "        tp = re.compile(r'Stopped in \\d+ iterations and ([\\d.]+) seconds')\n",
        "        time = tp.search(log)\n",
        "        exec_time = float(time.group(1)) if time else None\n",
        "\n",
        "        return { name:\n",
        "                {\n",
        "                    'status':'Time limit reached',\n",
        "                    'solver':'Gurobi',\n",
        "                    'exec_time':exec_time,\n",
        "                    'primal_bound':'-',\n",
        "                    'dual_bound': '-',\n",
        "                    'gap': '-'\n",
        "                }\n",
        "            }\n",
        "    # Optimal \n",
        "    elif log != '' and optimal_objective:\n",
        "        return { name:\n",
        "                {\n",
        "                    'status':'Optimal objective',\n",
        "                    'solver':'Gurobi',\n",
        "                    'exec_time':exec_time,\n",
        "                    'primal_bound':optimal_objective,\n",
        "                    'dual_bound': optimal_objective,\n",
        "                    'gap': 0.00\n",
        "                }\n",
        "            }\n",
        "    # \n",
        "    else:\n",
        "        return { name:\n",
        "                {\n",
        "                    'status':out['status'],\n",
        "                    'solver':'Gurobi',\n",
        "                    'exec_time':out['time'],\n",
        "                    'primal_bound':out['best_bound'],\n",
        "                    'dual_bound': out['best_solution'],\n",
        "                    'gap': out['gap']\n",
        "                }\n",
        "            }"
      ]
    },
    {
      "cell_type": "markdown",
      "metadata": {},
      "source": [
        "## Execuções"
      ]
    },
    {
      "cell_type": "code",
      "execution_count": 4,
      "metadata": {
        "id": "3JxX8XEoP8yD"
      },
      "outputs": [],
      "source": [
        "import pandas as pd\n",
        "from math import isnan"
      ]
    },
    {
      "cell_type": "code",
      "execution_count": 5,
      "metadata": {},
      "outputs": [],
      "source": [
        "c = ['Solver', 'Instance', 'Status', 'Time Executing', 'Primal Value', 'Dual Value', 'Gap']"
      ]
    },
    {
      "cell_type": "markdown",
      "metadata": {},
      "source": [
        "### SCIP Padrão"
      ]
    },
    {
      "cell_type": "code",
      "execution_count": 40,
      "metadata": {
        "colab": {
          "base_uri": "https://localhost:8080/",
          "height": 81
        },
        "id": "vITbZYeeP_Cz",
        "outputId": "a06e399f-a84e-4ea9-abc8-222b2f6925f6"
      },
      "outputs": [
        {
          "data": {
            "text/html": [
              "<div>\n",
              "<style scoped>\n",
              "    .dataframe tbody tr th:only-of-type {\n",
              "        vertical-align: middle;\n",
              "    }\n",
              "\n",
              "    .dataframe tbody tr th {\n",
              "        vertical-align: top;\n",
              "    }\n",
              "\n",
              "    .dataframe thead th {\n",
              "        text-align: right;\n",
              "    }\n",
              "</style>\n",
              "<table border=\"1\" class=\"dataframe\">\n",
              "  <thead>\n",
              "    <tr style=\"text-align: right;\">\n",
              "      <th></th>\n",
              "      <th>Solver</th>\n",
              "      <th>Instance</th>\n",
              "      <th>Status</th>\n",
              "      <th>Time Executing</th>\n",
              "      <th>Primal Value</th>\n",
              "      <th>Dual Value</th>\n",
              "      <th>Gap</th>\n",
              "    </tr>\n",
              "  </thead>\n",
              "  <tbody>\n",
              "    <tr>\n",
              "      <th>0</th>\n",
              "      <td>Scip</td>\n",
              "      <td>wlp01</td>\n",
              "      <td>problem is solved [optimal solution found]</td>\n",
              "      <td>270.06</td>\n",
              "      <td>69055.247022</td>\n",
              "      <td>69055.247022</td>\n",
              "      <td>0.0</td>\n",
              "    </tr>\n",
              "    <tr>\n",
              "      <th>1</th>\n",
              "      <td>Scip</td>\n",
              "      <td>wlp02</td>\n",
              "      <td>solving was interrupted [time limit reached]</td>\n",
              "      <td>300.01</td>\n",
              "      <td>75932.681862</td>\n",
              "      <td>75885.30277</td>\n",
              "      <td>0.06</td>\n",
              "    </tr>\n",
              "    <tr>\n",
              "      <th>2</th>\n",
              "      <td>Scip</td>\n",
              "      <td>wlp03</td>\n",
              "      <td>solving was interrupted [time limit reached]</td>\n",
              "      <td>329.37</td>\n",
              "      <td>114899.854105</td>\n",
              "      <td>114676.150259</td>\n",
              "      <td>0.2</td>\n",
              "    </tr>\n",
              "    <tr>\n",
              "      <th>3</th>\n",
              "      <td>Scip</td>\n",
              "      <td>wlp04</td>\n",
              "      <td>solving was interrupted [time limit reached]</td>\n",
              "      <td>300.2</td>\n",
              "      <td>135502.376356</td>\n",
              "      <td>135101.303795</td>\n",
              "      <td>0.3</td>\n",
              "    </tr>\n",
              "    <tr>\n",
              "      <th>4</th>\n",
              "      <td>Scip</td>\n",
              "      <td>wlp05</td>\n",
              "      <td>solving was interrupted [time limit reached]</td>\n",
              "      <td>348.42</td>\n",
              "      <td>-</td>\n",
              "      <td>-</td>\n",
              "      <td>-</td>\n",
              "    </tr>\n",
              "  </tbody>\n",
              "</table>\n",
              "</div>"
            ],
            "text/plain": [
              "  Solver Instance                                        Status  \\\n",
              "0   Scip    wlp01    problem is solved [optimal solution found]   \n",
              "1   Scip    wlp02  solving was interrupted [time limit reached]   \n",
              "2   Scip    wlp03  solving was interrupted [time limit reached]   \n",
              "3   Scip    wlp04  solving was interrupted [time limit reached]   \n",
              "4   Scip    wlp05  solving was interrupted [time limit reached]   \n",
              "\n",
              "  Time Executing   Primal Value     Dual Value   Gap  \n",
              "0         270.06   69055.247022   69055.247022   0.0  \n",
              "1         300.01   75932.681862    75885.30277  0.06  \n",
              "2         329.37  114899.854105  114676.150259   0.2  \n",
              "3          300.2  135502.376356  135101.303795   0.3  \n",
              "4         348.42              -              -     -  "
            ]
          },
          "execution_count": 40,
          "metadata": {},
          "output_type": "execute_result"
        }
      ],
      "source": [
        "name_scip_p_files = [name+'-p-Location-Of-Facilities-SCIP.txt' for name in instances]\n",
        "\n",
        "log_results_scip_p = {}\n",
        "for log_file in name_scip_p_files:\n",
        "  log_results_scip_p.update(extract_infos_scip_log(log_file))\n",
        "  \n",
        "df_scip_p = pd.DataFrame(columns=c)\n",
        "\n",
        "for key, value in log_results_scip_p.items():\n",
        "  new_index = df_scip_p.index.max() + 1  # Calcula o novo índice\n",
        "  if isnan(new_index):\n",
        "      new_index = 0\n",
        "        \n",
        "  df_scip_p.loc[new_index] = pd.Series({ # type: ignore\n",
        "      'Solver': value['solver'],\n",
        "      'Instance': key,\n",
        "      'Status': value['status'],\n",
        "      'Time Executing': value['exec_time'],\n",
        "      'Primal Value': value['primal_bound'],\n",
        "      'Dual Value': value['dual_bound'],\n",
        "      'Gap': value['gap']\n",
        "  })\n",
        "\n",
        "df_scip_p.tail()"
      ]
    },
    {
      "cell_type": "markdown",
      "metadata": {},
      "source": [
        "### Gurobi Padrão"
      ]
    },
    {
      "cell_type": "code",
      "execution_count": 42,
      "metadata": {},
      "outputs": [
        {
          "data": {
            "text/html": [
              "<div>\n",
              "<style scoped>\n",
              "    .dataframe tbody tr th:only-of-type {\n",
              "        vertical-align: middle;\n",
              "    }\n",
              "\n",
              "    .dataframe tbody tr th {\n",
              "        vertical-align: top;\n",
              "    }\n",
              "\n",
              "    .dataframe thead th {\n",
              "        text-align: right;\n",
              "    }\n",
              "</style>\n",
              "<table border=\"1\" class=\"dataframe\">\n",
              "  <thead>\n",
              "    <tr style=\"text-align: right;\">\n",
              "      <th></th>\n",
              "      <th>Solver</th>\n",
              "      <th>Instance</th>\n",
              "      <th>Status</th>\n",
              "      <th>Time Executing</th>\n",
              "      <th>Primal Value</th>\n",
              "      <th>Dual Value</th>\n",
              "      <th>Gap</th>\n",
              "    </tr>\n",
              "  </thead>\n",
              "  <tbody>\n",
              "    <tr>\n",
              "      <th>0</th>\n",
              "      <td>Gurobi</td>\n",
              "      <td>wlp01</td>\n",
              "      <td>Optimal solution found</td>\n",
              "      <td>4.68</td>\n",
              "      <td>69049.491081</td>\n",
              "      <td>69055.247022</td>\n",
              "      <td>0</td>\n",
              "    </tr>\n",
              "    <tr>\n",
              "      <th>1</th>\n",
              "      <td>Gurobi</td>\n",
              "      <td>wlp02</td>\n",
              "      <td>Optimal solution found</td>\n",
              "      <td>39.23</td>\n",
              "      <td>75931.138805</td>\n",
              "      <td>75934.725152</td>\n",
              "      <td>0</td>\n",
              "    </tr>\n",
              "    <tr>\n",
              "      <th>2</th>\n",
              "      <td>Gurobi</td>\n",
              "      <td>wlp03</td>\n",
              "      <td>Optimal solution found</td>\n",
              "      <td>206.3</td>\n",
              "      <td>114736.905754</td>\n",
              "      <td>114736.905754</td>\n",
              "      <td>0</td>\n",
              "    </tr>\n",
              "    <tr>\n",
              "      <th>3</th>\n",
              "      <td>Gurobi</td>\n",
              "      <td>wlp04</td>\n",
              "      <td>Time limit reached</td>\n",
              "      <td>300.07</td>\n",
              "      <td>135110.770067</td>\n",
              "      <td>135143.455855</td>\n",
              "      <td>0.0242</td>\n",
              "    </tr>\n",
              "    <tr>\n",
              "      <th>4</th>\n",
              "      <td>Gurobi</td>\n",
              "      <td>wlp05</td>\n",
              "      <td>Time limit reached</td>\n",
              "      <td>300.09</td>\n",
              "      <td>161960.003551</td>\n",
              "      <td>162022.527208</td>\n",
              "      <td>0.0386</td>\n",
              "    </tr>\n",
              "  </tbody>\n",
              "</table>\n",
              "</div>"
            ],
            "text/plain": [
              "   Solver Instance                  Status Time Executing   Primal Value  \\\n",
              "0  Gurobi    wlp01  Optimal solution found           4.68   69049.491081   \n",
              "1  Gurobi    wlp02  Optimal solution found          39.23   75931.138805   \n",
              "2  Gurobi    wlp03  Optimal solution found          206.3  114736.905754   \n",
              "3  Gurobi    wlp04      Time limit reached         300.07  135110.770067   \n",
              "4  Gurobi    wlp05      Time limit reached         300.09  161960.003551   \n",
              "\n",
              "      Dual Value     Gap  \n",
              "0   69055.247022       0  \n",
              "1   75934.725152       0  \n",
              "2  114736.905754       0  \n",
              "3  135143.455855  0.0242  \n",
              "4  162022.527208  0.0386  "
            ]
          },
          "execution_count": 42,
          "metadata": {},
          "output_type": "execute_result"
        }
      ],
      "source": [
        "name_gurobi_p_files = [name+'-p-Location-Of-Facilities-GUROBI.txt' for name in instances]\n",
        "\n",
        "log_results_gurobi_p = {}\n",
        "for log_file in name_gurobi_p_files:\n",
        "  log_results_gurobi_p.update(extract_infos_gurobi_log(log_file))\n",
        "  \n",
        "df_gurobi_p = pd.DataFrame(columns=c)\n",
        "\n",
        "for key, value in log_results_gurobi_p.items():\n",
        "    new_index = df_gurobi_p.index.max() + 1  # Calcula o novo índice\n",
        "    if isnan(new_index):\n",
        "        new_index = 0\n",
        "        \n",
        "    df_gurobi_p.loc[new_index] = pd.Series({ # type: ignore\n",
        "        'Solver': value['solver'],\n",
        "        'Instance': key,\n",
        "        'Status': value['status'],\n",
        "        'Time Executing': value['exec_time'],\n",
        "        'Primal Value': value['primal_bound'],\n",
        "        'Dual Value': value['dual_bound'],\n",
        "        'Gap': value['gap']\n",
        "    })\n",
        "\n",
        "df_gurobi_p.tail()"
      ]
    },
    {
      "cell_type": "markdown",
      "metadata": {},
      "source": [
        "### Gurobi relaxado"
      ]
    },
    {
      "cell_type": "code",
      "execution_count": 45,
      "metadata": {},
      "outputs": [
        {
          "data": {
            "text/html": [
              "<div>\n",
              "<style scoped>\n",
              "    .dataframe tbody tr th:only-of-type {\n",
              "        vertical-align: middle;\n",
              "    }\n",
              "\n",
              "    .dataframe tbody tr th {\n",
              "        vertical-align: top;\n",
              "    }\n",
              "\n",
              "    .dataframe thead th {\n",
              "        text-align: right;\n",
              "    }\n",
              "</style>\n",
              "<table border=\"1\" class=\"dataframe\">\n",
              "  <thead>\n",
              "    <tr style=\"text-align: right;\">\n",
              "      <th></th>\n",
              "      <th>Solver</th>\n",
              "      <th>Instance</th>\n",
              "      <th>Status</th>\n",
              "      <th>Time Executing</th>\n",
              "      <th>Primal Value</th>\n",
              "      <th>Dual Value</th>\n",
              "      <th>Gap</th>\n",
              "    </tr>\n",
              "  </thead>\n",
              "  <tbody>\n",
              "    <tr>\n",
              "      <th>0</th>\n",
              "      <td>Gurobi</td>\n",
              "      <td>wlp01</td>\n",
              "      <td>Optimal objective</td>\n",
              "      <td>0.6</td>\n",
              "      <td>69005.35746</td>\n",
              "      <td>69005.35746</td>\n",
              "      <td>0.0</td>\n",
              "    </tr>\n",
              "    <tr>\n",
              "      <th>1</th>\n",
              "      <td>Gurobi</td>\n",
              "      <td>wlp02</td>\n",
              "      <td>Optimal objective</td>\n",
              "      <td>0.81</td>\n",
              "      <td>75840.63419</td>\n",
              "      <td>75840.63419</td>\n",
              "      <td>0.0</td>\n",
              "    </tr>\n",
              "    <tr>\n",
              "      <th>2</th>\n",
              "      <td>Gurobi</td>\n",
              "      <td>wlp03</td>\n",
              "      <td>Optimal objective</td>\n",
              "      <td>1.89</td>\n",
              "      <td>114633.6517</td>\n",
              "      <td>114633.6517</td>\n",
              "      <td>0.0</td>\n",
              "    </tr>\n",
              "    <tr>\n",
              "      <th>3</th>\n",
              "      <td>Gurobi</td>\n",
              "      <td>wlp04</td>\n",
              "      <td>Optimal objective</td>\n",
              "      <td>2.71</td>\n",
              "      <td>135069.0235</td>\n",
              "      <td>135069.0235</td>\n",
              "      <td>0.0</td>\n",
              "    </tr>\n",
              "    <tr>\n",
              "      <th>4</th>\n",
              "      <td>Gurobi</td>\n",
              "      <td>wlp05</td>\n",
              "      <td>Optimal objective</td>\n",
              "      <td>5.31</td>\n",
              "      <td>161910.9422</td>\n",
              "      <td>161910.9422</td>\n",
              "      <td>0.0</td>\n",
              "    </tr>\n",
              "  </tbody>\n",
              "</table>\n",
              "</div>"
            ],
            "text/plain": [
              "   Solver Instance             Status Time Executing Primal Value  \\\n",
              "0  Gurobi    wlp01  Optimal objective            0.6  69005.35746   \n",
              "1  Gurobi    wlp02  Optimal objective           0.81  75840.63419   \n",
              "2  Gurobi    wlp03  Optimal objective           1.89  114633.6517   \n",
              "3  Gurobi    wlp04  Optimal objective           2.71  135069.0235   \n",
              "4  Gurobi    wlp05  Optimal objective           5.31  161910.9422   \n",
              "\n",
              "    Dual Value  Gap  \n",
              "0  69005.35746  0.0  \n",
              "1  75840.63419  0.0  \n",
              "2  114633.6517  0.0  \n",
              "3  135069.0235  0.0  \n",
              "4  161910.9422  0.0  "
            ]
          },
          "execution_count": 45,
          "metadata": {},
          "output_type": "execute_result"
        }
      ],
      "source": [
        "name_gurobi_r_files = [name+'-r-Location-Of-Facilities-GUROBI.txt' for name in instances]\n",
        "\n",
        "log_results_gurobi_r = {}\n",
        "for log_file in name_gurobi_r_files:\n",
        "  log_results_gurobi_r.update(extract_infos_gurobi_log(log_file))\n",
        "  \n",
        "df_gurobi_r = pd.DataFrame(columns=c)\n",
        "\n",
        "for key, value in log_results_gurobi_r.items():\n",
        "    new_index = df_gurobi_r.index.max() + 1  # Calcula o novo índice\n",
        "    if isnan(new_index):\n",
        "        new_index = 0\n",
        "        \n",
        "    df_gurobi_r.loc[new_index] = pd.Series({ # type: ignore\n",
        "        'Solver': value['solver'],\n",
        "        'Instance': key,\n",
        "        'Status': value['status'],\n",
        "        'Time Executing': value['exec_time'],\n",
        "        'Primal Value': value['primal_bound'],\n",
        "        'Dual Value': value['dual_bound'],\n",
        "        'Gap': value['gap']\n",
        "    })\n",
        "\n",
        "df_gurobi_r.tail()"
      ]
    },
    {
      "cell_type": "code",
      "execution_count": 46,
      "metadata": {},
      "outputs": [
        {
          "data": {
            "text/html": [
              "<div>\n",
              "<style scoped>\n",
              "    .dataframe tbody tr th:only-of-type {\n",
              "        vertical-align: middle;\n",
              "    }\n",
              "\n",
              "    .dataframe tbody tr th {\n",
              "        vertical-align: top;\n",
              "    }\n",
              "\n",
              "    .dataframe thead th {\n",
              "        text-align: right;\n",
              "    }\n",
              "</style>\n",
              "<table border=\"1\" class=\"dataframe\">\n",
              "  <thead>\n",
              "    <tr style=\"text-align: right;\">\n",
              "      <th></th>\n",
              "      <th>Solver</th>\n",
              "      <th>Instance</th>\n",
              "      <th>Status</th>\n",
              "      <th>Time Executing</th>\n",
              "      <th>Primal Value</th>\n",
              "      <th>Dual Value</th>\n",
              "      <th>Gap</th>\n",
              "    </tr>\n",
              "  </thead>\n",
              "  <tbody>\n",
              "    <tr>\n",
              "      <th>0</th>\n",
              "      <td>Gurobi</td>\n",
              "      <td>wlp01</td>\n",
              "      <td>Optimal objective</td>\n",
              "      <td>14.63</td>\n",
              "      <td>12808.6301</td>\n",
              "      <td>12808.6301</td>\n",
              "      <td>0.0</td>\n",
              "    </tr>\n",
              "    <tr>\n",
              "      <th>1</th>\n",
              "      <td>Gurobi</td>\n",
              "      <td>wlp02</td>\n",
              "      <td>Optimal objective</td>\n",
              "      <td>29.53</td>\n",
              "      <td>14029.7966</td>\n",
              "      <td>14029.7966</td>\n",
              "      <td>0.0</td>\n",
              "    </tr>\n",
              "    <tr>\n",
              "      <th>2</th>\n",
              "      <td>Gurobi</td>\n",
              "      <td>wlp03</td>\n",
              "      <td>Optimal objective</td>\n",
              "      <td>83.83</td>\n",
              "      <td>18121.5379</td>\n",
              "      <td>18121.5379</td>\n",
              "      <td>0.0</td>\n",
              "    </tr>\n",
              "    <tr>\n",
              "      <th>3</th>\n",
              "      <td>Gurobi</td>\n",
              "      <td>wlp04</td>\n",
              "      <td>Optimal objective</td>\n",
              "      <td>165.82</td>\n",
              "      <td>20797.0848</td>\n",
              "      <td>20797.0848</td>\n",
              "      <td>0.0</td>\n",
              "    </tr>\n",
              "    <tr>\n",
              "      <th>4</th>\n",
              "      <td>Gurobi</td>\n",
              "      <td>wlp05</td>\n",
              "      <td>Optimal objective</td>\n",
              "      <td>222.07</td>\n",
              "      <td>22973.2161</td>\n",
              "      <td>22973.2161</td>\n",
              "      <td>0.0</td>\n",
              "    </tr>\n",
              "  </tbody>\n",
              "</table>\n",
              "</div>"
            ],
            "text/plain": [
              "   Solver Instance             Status Time Executing Primal Value  Dual Value  \\\n",
              "0  Gurobi    wlp01  Optimal objective          14.63   12808.6301  12808.6301   \n",
              "1  Gurobi    wlp02  Optimal objective          29.53   14029.7966  14029.7966   \n",
              "2  Gurobi    wlp03  Optimal objective          83.83   18121.5379  18121.5379   \n",
              "3  Gurobi    wlp04  Optimal objective         165.82   20797.0848  20797.0848   \n",
              "4  Gurobi    wlp05  Optimal objective         222.07   22973.2161  22973.2161   \n",
              "\n",
              "   Gap  \n",
              "0  0.0  \n",
              "1  0.0  \n",
              "2  0.0  \n",
              "3  0.0  \n",
              "4  0.0  "
            ]
          },
          "execution_count": 46,
          "metadata": {},
          "output_type": "execute_result"
        }
      ],
      "source": [
        "name_gurobi_m_files = [name+'-m-Location-Of-Facilities-GUROBI.txt' for name in instances]\n",
        "\n",
        "log_results_gurobi_m = {}\n",
        "for log_file in name_gurobi_m_files:\n",
        "  log_results_gurobi_m.update(extract_infos_gurobi_log(log_file))\n",
        "  \n",
        "df_gurobi_m = pd.DataFrame(columns=c)\n",
        "\n",
        "for key, value in log_results_gurobi_m.items():\n",
        "    new_index = df_gurobi_m.index.max() + 1  # Calcula o novo índice\n",
        "    if isnan(new_index):\n",
        "        new_index = 0\n",
        "        \n",
        "    df_gurobi_m.loc[new_index] = pd.Series({ # type: ignore\n",
        "        'Solver': value['solver'],\n",
        "        'Instance': key,\n",
        "        'Status': value['status'],\n",
        "        'Time Executing': value['exec_time'],\n",
        "        'Primal Value': value['primal_bound'],\n",
        "        'Dual Value': value['dual_bound'],\n",
        "        'Gap': value['gap']\n",
        "    })\n",
        "\n",
        "df_gurobi_m.tail()"
      ]
    }
  ],
  "metadata": {
    "colab": {
      "provenance": []
    },
    "kernelspec": {
      "display_name": "Python 3",
      "name": "python3"
    },
    "language_info": {
      "codemirror_mode": {
        "name": "ipython",
        "version": 3
      },
      "file_extension": ".py",
      "mimetype": "text/x-python",
      "name": "python",
      "nbconvert_exporter": "python",
      "pygments_lexer": "ipython3",
      "version": "3.11.5"
    }
  },
  "nbformat": 4,
  "nbformat_minor": 0
}
